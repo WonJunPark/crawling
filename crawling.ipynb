{
 "cells": [
  {
   "cell_type": "code",
   "execution_count": null,
   "metadata": {
    "collapsed": true
   },
   "outputs": [],
   "source": []
  },
  {
   "cell_type": "code",
   "execution_count": 34,
   "metadata": {},
   "outputs": [],
   "source": [
    "#keyword url 셋팅\n",
    "\n",
    "product_li = [\"딸기\",\"키위\",\"멜론\",\"포도\",\"수박\",\"토마토\",\n",
    "           \"배\",\"감\",\"사과\",\"귤\",\"고구마\",\"감자\"]\n",
    "product_url_li = [\"http://search.11st.co.kr/Search.tmall?kwd=%25EB%2594%25B8%25EA%25B8%25B0\",\n",
    "              \"http://search.11st.co.kr/Search.tmall?kwd=%25ED%2582%25A4%25EC%259C%2584\",\n",
    "              \"http://search.11st.co.kr/Search.tmall?kwd=%25EB%25A9%259C%25EB%25A1%25A0\",\n",
    "              \"http://search.11st.co.kr/Search.tmall?kwd=%25ED%258F%25AC%25EB%258F%2584\",\n",
    "              \"http://search.11st.co.kr/Search.tmall?kwd=%25EC%2588%2598%25EB%25B0%2595\",\n",
    "              \"http://search.11st.co.kr/Search.tmall?kwd=%25ED%2586%25A0%25EB%25A7%2588%25ED%2586%25A0\",\n",
    "              \"http://search.11st.co.kr/Search.tmall?kwd=%25EB%25B0%25B0\",\n",
    "              \"http://search.11st.co.kr/Search.tmall?kwd=%25EA%25B0%2590\",\n",
    "              \"http://search.11st.co.kr/Search.tmall?kwd=%25EC%2582%25AC%25EA%25B3%25BC\",\n",
    "              \"http://search.11st.co.kr/Search.tmall?kwd=%25EA%25B7%25A4\",\n",
    "              \"http://search.11st.co.kr/Search.tmall?kwd=%25EA%25B3%25A0%25EA%25B5%25AC%25EB%25A7%2588\",\n",
    "              \"http://search.11st.co.kr/Search.tmall?kwd=%25EA%25B0%2590%25EC%259E%2590\"]\n",
    "product_dic = dict(zip(product_li,product_url_li))"
   ]
  },
  {
   "cell_type": "code",
   "execution_count": null,
   "metadata": {
    "collapsed": true
   },
   "outputs": [],
   "source": []
  },
  {
   "cell_type": "code",
   "execution_count": null,
   "metadata": {
    "collapsed": true
   },
   "outputs": [],
   "source": [
    "#json 불러오기"
   ]
  },
  {
   "cell_type": "code",
   "execution_count": 35,
   "metadata": {},
   "outputs": [
    {
     "name": "stdout",
     "output_type": "stream",
     "text": [
      "{'keyword': '딸기'}\n"
     ]
    }
   ],
   "source": [
    "import json\n",
    "\n",
    "with open('keyword.json') as f:\n",
    "    json_data = json.load(f)\n",
    "\n",
    "print(json_data)"
   ]
  },
  {
   "cell_type": "code",
   "execution_count": 36,
   "metadata": {},
   "outputs": [
    {
     "data": {
      "text/plain": [
       "'딸기'"
      ]
     },
     "execution_count": 36,
     "metadata": {},
     "output_type": "execute_result"
    }
   ],
   "source": [
    "keyword = json_data['keyword']\n",
    "keyword"
   ]
  },
  {
   "cell_type": "code",
   "execution_count": 37,
   "metadata": {},
   "outputs": [],
   "source": [
    "for i in product_dic:\n",
    "    if i == keyword:\n",
    "        product_url = product_dic[i]"
   ]
  },
  {
   "cell_type": "code",
   "execution_count": null,
   "metadata": {
    "collapsed": true
   },
   "outputs": [],
   "source": []
  },
  {
   "cell_type": "code",
   "execution_count": null,
   "metadata": {
    "collapsed": true
   },
   "outputs": [],
   "source": []
  },
  {
   "cell_type": "code",
   "execution_count": 38,
   "metadata": {
    "collapsed": true
   },
   "outputs": [],
   "source": [
    "import requests\n",
    "from bs4 import BeautifulSoup"
   ]
  },
  {
   "cell_type": "code",
   "execution_count": 40,
   "metadata": {
    "collapsed": true
   },
   "outputs": [],
   "source": [
    "response = requests.get(product_url)"
   ]
  },
  {
   "cell_type": "code",
   "execution_count": 41,
   "metadata": {
    "collapsed": true
   },
   "outputs": [],
   "source": [
    "html = response.text"
   ]
  },
  {
   "cell_type": "code",
   "execution_count": 42,
   "metadata": {
    "collapsed": true
   },
   "outputs": [],
   "source": [
    "soup = BeautifulSoup(html, 'html.parser')"
   ]
  },
  {
   "cell_type": "code",
   "execution_count": 43,
   "metadata": {
    "collapsed": true
   },
   "outputs": [],
   "source": [
    "ul = soup.find(\"ul\", {\"class\":\"finder_lst\"})"
   ]
  },
  {
   "cell_type": "code",
   "execution_count": 44,
   "metadata": {},
   "outputs": [
    {
     "data": {
      "text/plain": [
       "<ul class=\"finder_lst\">\n",
       "<li>\n",
       "<a data-log-actionid-label=\"search_keyword\" data-log-body='{\"content_type\":\"TEXT\",\"content_name\":\"생딸기\",\"position_l1\":\"1\"}' data-log-index=\"1\" href=\"http://search.11st.co.kr/Search.tmall?kwd=생딸기\" onclick=\"try{rakeLog.sendRakeLog(this);}catch(e){}ga('send', 'event', '통합검색(전체상품)', '연관검색어', '');\">\n",
       "\t\t\t\t\t\t\t생딸기\n",
       "\t\t\t\t\t\t</a>\n",
       "</li>\n",
       "<li>\n",
       "<a data-log-actionid-label=\"search_keyword\" data-log-body='{\"content_type\":\"TEXT\",\"content_name\":\"냉동과일\",\"position_l1\":\"2\"}' data-log-index=\"2\" href=\"http://search.11st.co.kr/Search.tmall?kwd=냉동과일\" onclick=\"try{rakeLog.sendRakeLog(this);}catch(e){}ga('send', 'event', '통합검색(전체상품)', '연관검색어', '');\">\n",
       "\t\t\t\t\t\t\t냉동과일\n",
       "\t\t\t\t\t\t</a>\n",
       "</li>\n",
       "<li>\n",
       "<a data-log-actionid-label=\"search_keyword\" data-log-body='{\"content_type\":\"TEXT\",\"content_name\":\"블루베리\",\"position_l1\":\"3\"}' data-log-index=\"3\" href=\"http://search.11st.co.kr/Search.tmall?kwd=블루베리\" onclick=\"try{rakeLog.sendRakeLog(this);}catch(e){}ga('send', 'event', '통합검색(전체상품)', '연관검색어', '');\">\n",
       "\t\t\t\t\t\t\t블루베리\n",
       "\t\t\t\t\t\t</a>\n",
       "</li>\n",
       "<li>\n",
       "<a data-log-actionid-label=\"search_keyword\" data-log-body='{\"content_type\":\"TEXT\",\"content_name\":\"체리\",\"position_l1\":\"4\"}' data-log-index=\"4\" href=\"http://search.11st.co.kr/Search.tmall?kwd=체리\" onclick=\"try{rakeLog.sendRakeLog(this);}catch(e){}ga('send', 'event', '통합검색(전체상품)', '연관검색어', '');\">\n",
       "\t\t\t\t\t\t\t체리\n",
       "\t\t\t\t\t\t</a>\n",
       "</li>\n",
       "<li>\n",
       "<a data-log-actionid-label=\"search_keyword\" data-log-body='{\"content_type\":\"TEXT\",\"content_name\":\"귤\",\"position_l1\":\"5\"}' data-log-index=\"5\" href=\"http://search.11st.co.kr/Search.tmall?kwd=귤\" onclick=\"try{rakeLog.sendRakeLog(this);}catch(e){}ga('send', 'event', '통합검색(전체상품)', '연관검색어', '');\">\n",
       "\t\t\t\t\t\t\t귤\n",
       "\t\t\t\t\t\t</a>\n",
       "</li>\n",
       "<li>\n",
       "<a data-log-actionid-label=\"search_keyword\" data-log-body='{\"content_type\":\"TEXT\",\"content_name\":\"바나나\",\"position_l1\":\"6\"}' data-log-index=\"6\" href=\"http://search.11st.co.kr/Search.tmall?kwd=바나나\" onclick=\"try{rakeLog.sendRakeLog(this);}catch(e){}ga('send', 'event', '통합검색(전체상품)', '연관검색어', '');\">\n",
       "\t\t\t\t\t\t\t바나나\n",
       "\t\t\t\t\t\t</a>\n",
       "</li>\n",
       "<li>\n",
       "<a data-log-actionid-label=\"search_keyword\" data-log-body='{\"content_type\":\"TEXT\",\"content_name\":\"냉동딸기 1kg\",\"position_l1\":\"7\"}' data-log-index=\"7\" href=\"http://search.11st.co.kr/Search.tmall?kwd=냉동딸기 1kg\" onclick=\"try{rakeLog.sendRakeLog(this);}catch(e){}ga('send', 'event', '통합검색(전체상품)', '연관검색어', '');\">\n",
       "\t\t\t\t\t\t\t냉동딸기 1kg\n",
       "\t\t\t\t\t\t</a>\n",
       "</li>\n",
       "<li>\n",
       "<a data-log-actionid-label=\"search_keyword\" data-log-body='{\"content_type\":\"TEXT\",\"content_name\":\"냉동망고\",\"position_l1\":\"8\"}' data-log-index=\"8\" href=\"http://search.11st.co.kr/Search.tmall?kwd=냉동망고\" onclick=\"try{rakeLog.sendRakeLog(this);}catch(e){}ga('send', 'event', '통합검색(전체상품)', '연관검색어', '');\">\n",
       "\t\t\t\t\t\t\t냉동망고\n",
       "\t\t\t\t\t\t</a>\n",
       "</li>\n",
       "<li>\n",
       "<a data-log-actionid-label=\"search_keyword\" data-log-body='{\"content_type\":\"TEXT\",\"content_name\":\"하우스딸기\",\"position_l1\":\"9\"}' data-log-index=\"9\" href=\"http://search.11st.co.kr/Search.tmall?kwd=하우스딸기\" onclick=\"try{rakeLog.sendRakeLog(this);}catch(e){}ga('send', 'event', '통합검색(전체상품)', '연관검색어', '');\">\n",
       "\t\t\t\t\t\t\t하우스딸기\n",
       "\t\t\t\t\t\t</a>\n",
       "</li>\n",
       "<li>\n",
       "<a data-log-actionid-label=\"search_keyword\" data-log-body='{\"content_type\":\"TEXT\",\"content_name\":\"애플망고\",\"position_l1\":\"10\"}' data-log-index=\"10\" href=\"http://search.11st.co.kr/Search.tmall?kwd=애플망고\" onclick=\"try{rakeLog.sendRakeLog(this);}catch(e){}ga('send', 'event', '통합검색(전체상품)', '연관검색어', '');\">\n",
       "\t\t\t\t\t\t\t애플망고\n",
       "\t\t\t\t\t\t</a>\n",
       "</li>\n",
       "<li>\n",
       "<a data-log-actionid-label=\"search_keyword\" data-log-body='{\"content_type\":\"TEXT\",\"content_name\":\"사과\",\"position_l1\":\"11\"}' data-log-index=\"11\" href=\"http://search.11st.co.kr/Search.tmall?kwd=사과\" onclick=\"try{rakeLog.sendRakeLog(this);}catch(e){}ga('send', 'event', '통합검색(전체상품)', '연관검색어', '');\">\n",
       "\t\t\t\t\t\t\t사과\n",
       "\t\t\t\t\t\t</a>\n",
       "</li>\n",
       "<li>\n",
       "<a data-log-actionid-label=\"search_keyword\" data-log-body='{\"content_type\":\"TEXT\",\"content_name\":\"파리바게트\",\"position_l1\":\"12\"}' data-log-index=\"12\" href=\"http://search.11st.co.kr/Search.tmall?kwd=파리바게트\" onclick=\"try{rakeLog.sendRakeLog(this);}catch(e){}ga('send', 'event', '통합검색(전체상품)', '연관검색어', '');\">\n",
       "\t\t\t\t\t\t\t파리바게트\n",
       "\t\t\t\t\t\t</a>\n",
       "</li>\n",
       "<li>\n",
       "<a data-log-actionid-label=\"search_keyword\" data-log-body='{\"content_type\":\"TEXT\",\"content_name\":\"냉동블루베리\",\"position_l1\":\"13\"}' data-log-index=\"13\" href=\"http://search.11st.co.kr/Search.tmall?kwd=냉동블루베리\" onclick=\"try{rakeLog.sendRakeLog(this);}catch(e){}ga('send', 'event', '통합검색(전체상품)', '연관검색어', '');\">\n",
       "\t\t\t\t\t\t\t냉동블루베리\n",
       "\t\t\t\t\t\t</a>\n",
       "</li>\n",
       "<li>\n",
       "<a data-log-actionid-label=\"search_keyword\" data-log-body='{\"content_type\":\"TEXT\",\"content_name\":\"홈플러스 딸기\",\"position_l1\":\"14\"}' data-log-index=\"14\" href=\"http://search.11st.co.kr/Search.tmall?kwd=홈플러스 딸기\" onclick=\"try{rakeLog.sendRakeLog(this);}catch(e){}ga('send', 'event', '통합검색(전체상품)', '연관검색어', '');\">\n",
       "\t\t\t\t\t\t\t홈플러스 딸기\n",
       "\t\t\t\t\t\t</a>\n",
       "</li>\n",
       "<li>\n",
       "<a data-log-actionid-label=\"search_keyword\" data-log-body='{\"content_type\":\"TEXT\",\"content_name\":\"설향딸기\",\"position_l1\":\"15\"}' data-log-index=\"15\" href=\"http://search.11st.co.kr/Search.tmall?kwd=설향딸기\" onclick=\"try{rakeLog.sendRakeLog(this);}catch(e){}ga('send', 'event', '통합검색(전체상품)', '연관검색어', '');\">\n",
       "\t\t\t\t\t\t\t설향딸기\n",
       "\t\t\t\t\t\t</a>\n",
       "</li>\n",
       "</ul>"
      ]
     },
     "execution_count": 44,
     "metadata": {},
     "output_type": "execute_result"
    }
   ],
   "source": [
    "ul"
   ]
  },
  {
   "cell_type": "code",
   "execution_count": 46,
   "metadata": {
    "collapsed": true
   },
   "outputs": [],
   "source": [
    "product = []\n",
    "url = []"
   ]
  },
  {
   "cell_type": "code",
   "execution_count": 47,
   "metadata": {
    "collapsed": true
   },
   "outputs": [],
   "source": [
    "for value in ul.find_all(\"li\"):\n",
    "    product.append(value.a.text.strip())\n",
    "    url.append(value.a.attrs['href'])"
   ]
  },
  {
   "cell_type": "code",
   "execution_count": 50,
   "metadata": {
    "collapsed": true
   },
   "outputs": [],
   "source": [
    "result_dic = dict(zip(product,url))"
   ]
  },
  {
   "cell_type": "code",
   "execution_count": 51,
   "metadata": {
    "scrolled": true
   },
   "outputs": [
    {
     "data": {
      "text/plain": [
       "{'귤': 'http://search.11st.co.kr/Search.tmall?kwd=귤',\n",
       " '냉동과일': 'http://search.11st.co.kr/Search.tmall?kwd=냉동과일',\n",
       " '냉동딸기 1kg': 'http://search.11st.co.kr/Search.tmall?kwd=냉동딸기 1kg',\n",
       " '냉동망고': 'http://search.11st.co.kr/Search.tmall?kwd=냉동망고',\n",
       " '냉동블루베리': 'http://search.11st.co.kr/Search.tmall?kwd=냉동블루베리',\n",
       " '바나나': 'http://search.11st.co.kr/Search.tmall?kwd=바나나',\n",
       " '블루베리': 'http://search.11st.co.kr/Search.tmall?kwd=블루베리',\n",
       " '사과': 'http://search.11st.co.kr/Search.tmall?kwd=사과',\n",
       " '생딸기': 'http://search.11st.co.kr/Search.tmall?kwd=생딸기',\n",
       " '설향딸기': 'http://search.11st.co.kr/Search.tmall?kwd=설향딸기',\n",
       " '애플망고': 'http://search.11st.co.kr/Search.tmall?kwd=애플망고',\n",
       " '체리': 'http://search.11st.co.kr/Search.tmall?kwd=체리',\n",
       " '파리바게트': 'http://search.11st.co.kr/Search.tmall?kwd=파리바게트',\n",
       " '하우스딸기': 'http://search.11st.co.kr/Search.tmall?kwd=하우스딸기',\n",
       " '홈플러스 딸기': 'http://search.11st.co.kr/Search.tmall?kwd=홈플러스 딸기'}"
      ]
     },
     "execution_count": 51,
     "metadata": {},
     "output_type": "execute_result"
    }
   ],
   "source": [
    "result_dic"
   ]
  },
  {
   "cell_type": "code",
   "execution_count": 52,
   "metadata": {
    "collapsed": true
   },
   "outputs": [],
   "source": [
    "from collections import OrderedDict"
   ]
  },
  {
   "cell_type": "code",
   "execution_count": 53,
   "metadata": {
    "collapsed": true
   },
   "outputs": [],
   "source": [
    "file_data = OrderedDict()"
   ]
  },
  {
   "cell_type": "code",
   "execution_count": 55,
   "metadata": {},
   "outputs": [],
   "source": [
    "file_data[\"related_keywords\"] = product"
   ]
  },
  {
   "cell_type": "code",
   "execution_count": 57,
   "metadata": {},
   "outputs": [],
   "source": [
    "file_data[\"product_url\"] = url"
   ]
  },
  {
   "cell_type": "code",
   "execution_count": 60,
   "metadata": {},
   "outputs": [],
   "source": [
    "with open('related_keywords.json','w',encoding=\"utf-8\") as make_file:\n",
    "    json.dump(file_data, make_file, ensure_ascii=False, indent=\"\\t\")"
   ]
  },
  {
   "cell_type": "code",
   "execution_count": null,
   "metadata": {
    "collapsed": true
   },
   "outputs": [],
   "source": []
  }
 ],
 "metadata": {
  "kernelspec": {
   "display_name": "Python [conda env:Anaconda3]",
   "language": "python",
   "name": "conda-env-Anaconda3-py"
  },
  "language_info": {
   "codemirror_mode": {
    "name": "ipython",
    "version": 3
   },
   "file_extension": ".py",
   "mimetype": "text/x-python",
   "name": "python",
   "nbconvert_exporter": "python",
   "pygments_lexer": "ipython3",
   "version": "3.5.6"
  }
 },
 "nbformat": 4,
 "nbformat_minor": 2
}
