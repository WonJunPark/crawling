{
 "cells": [
  {
   "cell_type": "code",
   "execution_count": 1,
   "metadata": {
    "collapsed": true
   },
   "outputs": [],
   "source": [
    "import json\n",
    "import requests\n",
    "from bs4 import BeautifulSoup\n",
    "from collections import OrderedDict\n",
    "from flask import Flask"
   ]
  },
  {
   "cell_type": "code",
   "execution_count": 2,
   "metadata": {
    "collapsed": true
   },
   "outputs": [],
   "source": [
    "product_li = [\"딸기\",\"키위\",\"멜론\",\"포도\",\"수박\",\"토마토\",\n",
    "        \"배\",\"감\",\"사과\",\"귤\",\"고구마\",\"감자\"]\n",
    "product_url_li = [\"http://search.11st.co.kr/Search.tmall?kwd=%25EB%2594%25B8%25EA%25B8%25B0\",\n",
    "            \"http://search.11st.co.kr/Search.tmall?kwd=%25ED%2582%25A4%25EC%259C%2584\",\n",
    "            \"http://search.11st.co.kr/Search.tmall?kwd=%25EB%25A9%259C%25EB%25A1%25A0\",\n",
    "            \"http://search.11st.co.kr/Search.tmall?kwd=%25ED%258F%25AC%25EB%258F%2584\",\n",
    "            \"http://search.11st.co.kr/Search.tmall?kwd=%25EC%2588%2598%25EB%25B0%2595\",\n",
    "            \"http://search.11st.co.kr/Search.tmall?kwd=%25ED%2586%25A0%25EB%25A7%2588%25ED%2586%25A0\",\n",
    "            \"http://search.11st.co.kr/Search.tmall?kwd=%25EB%25B0%25B0\",\n",
    "            \"http://search.11st.co.kr/Search.tmall?kwd=%25EA%25B0%2590\",\n",
    "            \"http://search.11st.co.kr/Search.tmall?kwd=%25EC%2582%25AC%25EA%25B3%25BC\",\n",
    "            \"http://search.11st.co.kr/Search.tmall?kwd=%25EA%25B7%25A4\",\n",
    "            \"http://search.11st.co.kr/Search.tmall?kwd=%25EA%25B3%25A0%25EA%25B5%25AC%25EB%25A7%2588\",\n",
    "            \"http://search.11st.co.kr/Search.tmall?kwd=%25EA%25B0%2590%25EC%259E%2590\"]\n",
    "product_dic = dict(zip(product_li,product_url_li))"
   ]
  },
  {
   "cell_type": "code",
   "execution_count": null,
   "metadata": {
    "collapsed": true
   },
   "outputs": [],
   "source": []
  },
  {
   "cell_type": "code",
   "execution_count": 3,
   "metadata": {
    "collapsed": true
   },
   "outputs": [],
   "source": [
    "def get_keyword(keyword):    \n",
    "    \n",
    "    for i in product_dic:\n",
    "        if i == keyword:\n",
    "            product_url = product_dic[i]\n",
    "            \n",
    "    #크롤링        \n",
    "    response = requests.get(product_url)\n",
    "    html = response.text\n",
    "    soup = BeautifulSoup(html, 'html.parser')\n",
    "    ul = soup.find(\"ul\", {\"class\":\"finder_lst\"})\n",
    "\n",
    "    product = []\n",
    "    url = []\n",
    "\n",
    "    #json으로 반환\n",
    "    for value in ul.find_all(\"li\"):\n",
    "        product.append(value.a.text.strip())\n",
    "        url.append(value.a.attrs['href'])\n",
    "\n",
    "    result_dic = dict(zip(product,url))\n",
    "    file_data = OrderedDict()\n",
    "    file_data[\"related_keywords\"] = product\n",
    "    file_data[\"product_url\"] = url\n",
    "\n",
    "    return print(product)"
   ]
  },
  {
   "cell_type": "code",
   "execution_count": 4,
   "metadata": {
    "scrolled": true
   },
   "outputs": [
    {
     "name": "stdout",
     "output_type": "stream",
     "text": [
      "['귤 5kg', '제주감귤10kg', '타이벡감귤', '과일', '귤로장생', '제주귤', '조생귤', '귤15kg', '노지귤', '깨비농원', '제주농협', '서귀포감귤', '노지감귤 10kg', '황금향', 'rbf']\n"
     ]
    }
   ],
   "source": [
    "get_keyword(\"귤\")"
   ]
  },
  {
   "cell_type": "code",
   "execution_count": null,
   "metadata": {
    "collapsed": true
   },
   "outputs": [],
   "source": []
  },
  {
   "cell_type": "code",
   "execution_count": null,
   "metadata": {
    "collapsed": true
   },
   "outputs": [],
   "source": []
  },
  {
   "cell_type": "code",
   "execution_count": null,
   "metadata": {
    "collapsed": true
   },
   "outputs": [],
   "source": []
  },
  {
   "cell_type": "code",
   "execution_count": 9,
   "metadata": {
    "collapsed": true
   },
   "outputs": [],
   "source": [
    "app = Flask(__name__)\n",
    "@app.route(\"/\")\n",
    "def test():\n",
    "    return \"<h1>test server</h1>\"\n",
    "\n",
    "@app.route(\"/keyword/<string:keyword>\")\n",
    "def get_keyword(keyword):    \n",
    "    \n",
    "    for i in product_dic:\n",
    "        if i == keyword:\n",
    "            product_url = product_dic[i]\n",
    "            \n",
    "    #크롤링        \n",
    "    response = requests.get(product_url)\n",
    "    html = response.text\n",
    "    soup = BeautifulSoup(html, 'html.parser')\n",
    "    ul = soup.find(\"ul\", {\"class\":\"finder_lst\"})\n",
    "\n",
    "    product = []\n",
    "    url = []\n",
    "    \n",
    "    print(product)\n",
    "\n",
    "    #json으로 반환\n",
    "    for value in ul.find_all(\"li\"):\n",
    "        product.append(value.a.text.strip())\n",
    "        url.append(value.a.attrs['href'])\n",
    "\n",
    "    result_dic = dict(zip(product,url))\n",
    "    file_data = OrderedDict()\n",
    "    file_data[\"related_keywords\"] = product\n",
    "    file_data[\"product_url\"] = url\n",
    "    \n",
    "    return \"<h1>\"+str(product)+\"</h1>\"\n",
    "\n",
    "\n",
    "@app.route(\"/test/<keyword>\")\n",
    "def get_test(keyword):\n",
    "    print(\"hi\")\n",
    "    return \"<h1>\"+keyword+\"</h1>\""
   ]
  },
  {
   "cell_type": "code",
   "execution_count": 10,
   "metadata": {
    "scrolled": true
   },
   "outputs": [
    {
     "name": "stderr",
     "output_type": "stream",
     "text": [
      " * Running on http://127.0.0.1:8080/ (Press CTRL+C to quit)\n",
      "127.0.0.1 - - [07/Dec/2019 15:20:25] \"\u001b[37mGET / HTTP/1.1\u001b[0m\" 200 -\n",
      "127.0.0.1 - - [07/Dec/2019 15:20:32] \"\u001b[37mGET /keyword/%EB%B0%B0 HTTP/1.1\u001b[0m\" 200 -\n"
     ]
    },
    {
     "name": "stdout",
     "output_type": "stream",
     "text": [
      "[]\n"
     ]
    }
   ],
   "source": [
    "if __name__ == \"__main__\":              \n",
    "    app.run(host=\"127.0.0.1\", port=\"8080\")"
   ]
  },
  {
   "cell_type": "code",
   "execution_count": null,
   "metadata": {
    "collapsed": true
   },
   "outputs": [],
   "source": []
  },
  {
   "cell_type": "code",
   "execution_count": null,
   "metadata": {
    "collapsed": true
   },
   "outputs": [],
   "source": []
  },
  {
   "cell_type": "code",
   "execution_count": null,
   "metadata": {
    "collapsed": true
   },
   "outputs": [],
   "source": [
    "app = Flask(__name__)\n",
    "@app.route(\"/\")\n",
    "def test():\n",
    "    return \"<h1>test server</h1>\"\n",
    "\n",
    "@app.route(\"/keyword/<string:keyword>\")\n",
    "def get_keyword(keyword):    \n",
    "    \n",
    "    for i in product_dic:\n",
    "        if i == keyword:\n",
    "            product_url = product_dic[i]\n",
    "            \n",
    "    #크롤링        \n",
    "    response = requests.get(product_url)\n",
    "    html = response.text\n",
    "    soup = BeautifulSoup(html, 'html.parser')\n",
    "    ul = soup.find(\"ul\", {\"class\":\"finder_lst\"})\n",
    "\n",
    "    product = []\n",
    "    url = []\n",
    "    \n",
    "    print(product)\n",
    "\n",
    "    #json으로 반환\n",
    "    for value in ul.find_all(\"li\"):\n",
    "        product.append(value.a.text.strip())\n",
    "        url.append(value.a.attrs['href'])\n",
    "\n",
    "    result_dic = dict(zip(product,url))\n",
    "    file_data = OrderedDict()\n",
    "    file_data[\"related_keywords\"] = product\n",
    "    file_data[\"product_url\"] = url\n",
    "    \n",
    "    return \"<h1>\"+str(file_data)+\"</h1>\"\n",
    "\n",
    "\n",
    "@app.route(\"/test/<keyword>\")\n",
    "def get_test(keyword):\n",
    "    print(\"hi\")\n",
    "    return \"<h1>\"+keyword+\"</h1>\"\n",
    "\n",
    "if __name__ == \"__main__\":              \n",
    "    app.run(host=\"127.0.0.1\", port=\"8080\")"
   ]
  },
  {
   "cell_type": "code",
   "execution_count": null,
   "metadata": {
    "collapsed": true
   },
   "outputs": [],
   "source": []
  },
  {
   "cell_type": "code",
   "execution_count": null,
   "metadata": {
    "collapsed": true
   },
   "outputs": [],
   "source": []
  },
  {
   "cell_type": "code",
   "execution_count": null,
   "metadata": {
    "collapsed": true
   },
   "outputs": [],
   "source": []
  },
  {
   "cell_type": "code",
   "execution_count": null,
   "metadata": {
    "collapsed": true
   },
   "outputs": [],
   "source": [
    "#json 받아오기\n",
    "with open('keyword.json') as f:\n",
    "    json_data = json.load(f)\n",
    "\n",
    "keyword = json_data['keyword']\n",
    "\n",
    "for i in product_dic:\n",
    "    if i == keyword:\n",
    "        product_url = product_dic[i]\n",
    "#크롤링        \n",
    "response = requests.get(product_url)\n",
    "html = response.text\n",
    "soup = BeautifulSoup(html, 'html.parser')\n",
    "ul = soup.find(\"ul\", {\"class\":\"finder_lst\"})\n",
    "\n",
    "product = []\n",
    "url = []\n",
    "\n",
    "#json으로 반환\n",
    "for value in ul.find_all(\"li\"):\n",
    "    product.append(value.a.text.strip())\n",
    "    url.append(value.a.attrs['href'])\n",
    "\n",
    "result_dic = dict(zip(product,url))\n",
    "file_data = OrderedDict()\n",
    "file_data[\"related_keywords\"] = product\n",
    "file_data[\"product_url\"] = url\n",
    "with open('related_keywords.json','w',encoding=\"utf-8\") as make_file:\n",
    "    json.dump(file_data, make_file, ensure_ascii=False, indent=\"\\t\")"
   ]
  },
  {
   "cell_type": "code",
   "execution_count": null,
   "metadata": {
    "collapsed": true
   },
   "outputs": [],
   "source": [
    "\n"
   ]
  },
  {
   "cell_type": "code",
   "execution_count": 5,
   "metadata": {},
   "outputs": [
    {
     "name": "stderr",
     "output_type": "stream",
     "text": [
      " * Running on http://127.0.0.1:5000/ (Press CTRL+C to quit)\n",
      "127.0.0.1 - - [07/Dec/2019 15:17:40] \"\u001b[37mGET / HTTP/1.1\u001b[0m\" 200 -\n",
      "127.0.0.1 - - [07/Dec/2019 15:17:40] \"\u001b[33mGET /favicon.ico HTTP/1.1\u001b[0m\" 404 -\n",
      "[2019-12-07 15:17:49,005] ERROR in app: Exception on /test [GET]\n",
      "Traceback (most recent call last):\n",
      "  File \"C:\\Users\\dnjsw\\Anaconda3\\lib\\site-packages\\flask\\app.py\", line 1982, in wsgi_app\n",
      "    response = self.full_dispatch_request()\n",
      "  File \"C:\\Users\\dnjsw\\Anaconda3\\lib\\site-packages\\flask\\app.py\", line 1614, in full_dispatch_request\n",
      "    rv = self.handle_user_exception(e)\n",
      "  File \"C:\\Users\\dnjsw\\Anaconda3\\lib\\site-packages\\flask\\app.py\", line 1517, in handle_user_exception\n",
      "    reraise(exc_type, exc_value, tb)\n",
      "  File \"C:\\Users\\dnjsw\\Anaconda3\\lib\\site-packages\\flask\\_compat.py\", line 33, in reraise\n",
      "    raise value\n",
      "  File \"C:\\Users\\dnjsw\\Anaconda3\\lib\\site-packages\\flask\\app.py\", line 1612, in full_dispatch_request\n",
      "    rv = self.dispatch_request()\n",
      "  File \"C:\\Users\\dnjsw\\Anaconda3\\lib\\site-packages\\flask\\app.py\", line 1598, in dispatch_request\n",
      "    return self.view_functions[rule.endpoint](**req.view_args)\n",
      "  File \"<ipython-input-5-818c944562b3>\", line 12, in test\n",
      "    return render_template('post.html')\n",
      "  File \"C:\\Users\\dnjsw\\Anaconda3\\lib\\site-packages\\flask\\templating.py\", line 133, in render_template\n",
      "    return _render(ctx.app.jinja_env.get_or_select_template(template_name_or_list),\n",
      "  File \"C:\\Users\\dnjsw\\Anaconda3\\lib\\site-packages\\jinja2\\environment.py\", line 869, in get_or_select_template\n",
      "    return self.get_template(template_name_or_list, parent, globals)\n",
      "  File \"C:\\Users\\dnjsw\\Anaconda3\\lib\\site-packages\\jinja2\\environment.py\", line 830, in get_template\n",
      "    return self._load_template(name, self.make_globals(globals))\n",
      "  File \"C:\\Users\\dnjsw\\Anaconda3\\lib\\site-packages\\jinja2\\environment.py\", line 804, in _load_template\n",
      "    template = self.loader.load(self, name, globals)\n",
      "  File \"C:\\Users\\dnjsw\\Anaconda3\\lib\\site-packages\\jinja2\\loaders.py\", line 113, in load\n",
      "    source, filename, uptodate = self.get_source(environment, name)\n",
      "  File \"C:\\Users\\dnjsw\\Anaconda3\\lib\\site-packages\\flask\\templating.py\", line 57, in get_source\n",
      "    return self._get_source_fast(environment, template)\n",
      "  File \"C:\\Users\\dnjsw\\Anaconda3\\lib\\site-packages\\flask\\templating.py\", line 85, in _get_source_fast\n",
      "    raise TemplateNotFound(template)\n",
      "jinja2.exceptions.TemplateNotFound: post.html\n",
      "127.0.0.1 - - [07/Dec/2019 15:17:49] \"\u001b[1m\u001b[35mGET /test HTTP/1.1\u001b[0m\" 500 -\n",
      "127.0.0.1 - - [07/Dec/2019 15:18:02] \"\u001b[1m\u001b[31mGET /post HTTP/1.1\u001b[0m\" 405 -\n"
     ]
    }
   ],
   "source": [
    "from flask import Flask, render_template, request\n",
    "\n",
    "app = Flask(__name__)\n",
    "\n",
    "\n",
    "@app.route('/')\n",
    "def hello_world():\n",
    "    return 'Hello World!'\n",
    "\n",
    "@app.route('/test')\n",
    "def test():\n",
    "    return render_template('post.html')\n",
    "\n",
    "@app.route('/post', methods=['POST'])\n",
    "def post():\n",
    "    value = request.form['test']\n",
    "    return value\n",
    "\n",
    "if __name__ == '__main__':\n",
    "    app.run()"
   ]
  },
  {
   "cell_type": "code",
   "execution_count": null,
   "metadata": {
    "collapsed": true
   },
   "outputs": [],
   "source": []
  },
  {
   "cell_type": "code",
   "execution_count": null,
   "metadata": {
    "collapsed": true
   },
   "outputs": [],
   "source": []
  }
 ],
 "metadata": {
  "kernelspec": {
   "display_name": "Python [conda env:Anaconda3]",
   "language": "python",
   "name": "conda-env-Anaconda3-py"
  },
  "language_info": {
   "codemirror_mode": {
    "name": "ipython",
    "version": 3
   },
   "file_extension": ".py",
   "mimetype": "text/x-python",
   "name": "python",
   "nbconvert_exporter": "python",
   "pygments_lexer": "ipython3",
   "version": "3.5.6"
  }
 },
 "nbformat": 4,
 "nbformat_minor": 2
}
