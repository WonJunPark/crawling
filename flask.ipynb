{
 "cells": [
  {
   "cell_type": "code",
   "execution_count": 1,
   "metadata": {
    "collapsed": true
   },
   "outputs": [],
   "source": [
    "from flask import Flask"
   ]
  },
  {
   "cell_type": "code",
   "execution_count": 2,
   "metadata": {
    "collapsed": true
   },
   "outputs": [],
   "source": [
    "app = Flask(__name__)"
   ]
  },
  {
   "cell_type": "code",
   "execution_count": 3,
   "metadata": {
    "collapsed": true
   },
   "outputs": [],
   "source": [
    "@app.route(\"/asd\")\n",
    "def hello():                           \n",
    "    return \"<h1>Helladfadsfasdo World!</h1>\""
   ]
  },
  {
   "cell_type": "code",
   "execution_count": 4,
   "metadata": {
    "collapsed": true
   },
   "outputs": [],
   "source": [
    "host_addr = \"127.0.0.1\"\n",
    "port_num = \"8080\""
   ]
  },
  {
   "cell_type": "code",
   "execution_count": 5,
   "metadata": {},
   "outputs": [
    {
     "name": "stderr",
     "output_type": "stream",
     "text": [
      " * Running on http://127.0.0.1:8080/ (Press CTRL+C to quit)\n",
      "127.0.0.1 - - [06/Dec/2019 16:01:56] \"\u001b[33mGET / HTTP/1.1\u001b[0m\" 404 -\n",
      "127.0.0.1 - - [06/Dec/2019 16:02:03] \"\u001b[33mGET / HTTP/1.1\u001b[0m\" 404 -\n",
      "127.0.0.1 - - [06/Dec/2019 16:02:07] \"\u001b[37mGET /asd HTTP/1.1\u001b[0m\" 200 -\n"
     ]
    }
   ],
   "source": [
    "if __name__ == \"__main__\":              \n",
    "    app.run(host=host_addr, port=port_num)"
   ]
  },
  {
   "cell_type": "code",
   "execution_count": null,
   "metadata": {
    "collapsed": true
   },
   "outputs": [],
   "source": []
  },
  {
   "cell_type": "code",
   "execution_count": 2,
   "metadata": {},
   "outputs": [
    {
     "name": "stderr",
     "output_type": "stream",
     "text": [
      " * Running on http://127.0.0.1:8080/ (Press CTRL+C to quit)\n",
      "127.0.0.1 - - [06/Dec/2019 16:07:04] \"\u001b[37mGET / HTTP/1.1\u001b[0m\" 200 -\n",
      "127.0.0.1 - - [06/Dec/2019 16:07:27] \"\u001b[37mGET /profile/wonjun HTTP/1.1\u001b[0m\" 200 -\n",
      "127.0.0.1 - - [06/Dec/2019 16:07:44] \"\u001b[37mGET /first/wonjun HTTP/1.1\u001b[0m\" 200 -\n"
     ]
    }
   ],
   "source": [
    "from flask import Flask\n",
    "\n",
    "app = Flask(__name__)\n",
    "@app.route(\"/\")\n",
    "def hello():                           \n",
    "    return \"<h1>Hello World!</h1>\"\n",
    "\n",
    "@app.route(\"/profile/<username>\")\n",
    "def get_profile(username):\n",
    "    return \"profile: \" + username\n",
    "\n",
    "@app.route(\"/first/<username>\")\n",
    "def get_first(username):\n",
    "    return \"<h3>Hello \" + username + \"!</h3>\"\n",
    "\n",
    "if __name__ == \"__main__\":              \n",
    "    app.run(host=\"127.0.0.1\", port=\"8080\")"
   ]
  },
  {
   "cell_type": "code",
   "execution_count": 4,
   "metadata": {},
   "outputs": [
    {
     "name": "stderr",
     "output_type": "stream",
     "text": [
      " * Running on http://127.0.0.1:8080/ (Press CTRL+C to quit)\n",
      "127.0.0.1 - - [06/Dec/2019 16:13:25] \"\u001b[37mGET / HTTP/1.1\u001b[0m\" 200 -\n",
      "127.0.0.1 - - [06/Dec/2019 16:13:37] \"\u001b[33mGET /message/hi HTTP/1.1\u001b[0m\" 404 -\n",
      "127.0.0.1 - - [06/Dec/2019 16:13:43] \"\u001b[37mGET /message/1 HTTP/1.1\u001b[0m\" 200 -\n",
      "127.0.0.1 - - [06/Dec/2019 16:13:56] \"\u001b[37mGET /first/1 HTTP/1.1\u001b[0m\" 200 -\n",
      "127.0.0.1 - - [06/Dec/2019 16:19:24] \"\u001b[37mGET / HTTP/1.1\u001b[0m\" 200 -\n",
      "127.0.0.1 - - [06/Dec/2019 16:23:16] \"\u001b[33mGET /keyword/%EC%82%AC%EA%B3%BC HTTP/1.1\u001b[0m\" 404 -\n",
      "127.0.0.1 - - [06/Dec/2019 16:24:47] \"\u001b[37mGET / HTTP/1.1\u001b[0m\" 200 -\n",
      "127.0.0.1 - - [06/Dec/2019 16:25:22] \"\u001b[37mGET / HTTP/1.1\u001b[0m\" 200 -\n",
      "127.0.0.1 - - [06/Dec/2019 16:25:35] \"\u001b[33mGET /test/%E3%85%8E%E3%85%87 HTTP/1.1\u001b[0m\" 404 -\n",
      "127.0.0.1 - - [06/Dec/2019 16:25:38] \"\u001b[33mGET /test/hi HTTP/1.1\u001b[0m\" 404 -\n"
     ]
    }
   ],
   "source": [
    "from flask import Flask\n",
    "\n",
    "app = Flask(__name__)\n",
    "@app.route(\"/\")\n",
    "def hello():                           \n",
    "    return \"<h1>Hello World!</h1>\"\n",
    "\n",
    "@app.route(\"/message/<int:message_id>\")\n",
    "def get_message(message_id):\n",
    "    return \"message id: %d\" % message_id\n",
    "\n",
    "@app.route(\"/first/<int:messageid>\")\n",
    "def get_first(messageid):\n",
    "    return \"<h1>%d</h1>\" % (messageid + 5)\n",
    "\n",
    "\n",
    "if __name__ == \"__main__\":              \n",
    "    app.run(host=\"127.0.0.1\", port=\"8080\")"
   ]
  },
  {
   "cell_type": "code",
   "execution_count": null,
   "metadata": {
    "collapsed": true
   },
   "outputs": [],
   "source": []
  },
  {
   "cell_type": "code",
   "execution_count": null,
   "metadata": {
    "collapsed": true
   },
   "outputs": [],
   "source": []
  },
  {
   "cell_type": "code",
   "execution_count": null,
   "metadata": {
    "collapsed": true
   },
   "outputs": [],
   "source": []
  },
  {
   "cell_type": "code",
   "execution_count": null,
   "metadata": {
    "collapsed": true
   },
   "outputs": [],
   "source": []
  }
 ],
 "metadata": {
  "kernelspec": {
   "display_name": "Python [conda env:Anaconda3]",
   "language": "python",
   "name": "conda-env-Anaconda3-py"
  },
  "language_info": {
   "codemirror_mode": {
    "name": "ipython",
    "version": 3
   },
   "file_extension": ".py",
   "mimetype": "text/x-python",
   "name": "python",
   "nbconvert_exporter": "python",
   "pygments_lexer": "ipython3",
   "version": "3.5.6"
  }
 },
 "nbformat": 4,
 "nbformat_minor": 2
}
